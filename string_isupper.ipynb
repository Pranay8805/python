{
 "cells": [
  {
   "cell_type": "code",
   "execution_count": 3,
   "id": "e45552a5",
   "metadata": {},
   "outputs": [
    {
     "name": "stdout",
     "output_type": "stream",
     "text": [
      "[1, 2, 4, 9]\n"
     ]
    }
   ],
   "source": [
    "#write a function find_caps the function takes a single parameter which is string \n",
    "# your function should return a list of all the indexes in the string that have capital letters.\n",
    "# for example , calling find_caps (\"bOOtLogicS\")\n",
    "# return the list[1,2,4,9]\n",
    "\n",
    "\n",
    "\n",
    "def find_caps(str):\n",
    "    caps=[]\n",
    "    for i in range(0,len(str)):\n",
    "        if str[i].isupper():\n",
    "            caps.append(i)\n",
    "    return caps\n",
    "print(find_caps(\"bOOtLogicS\"))\n",
    "            "
   ]
  },
  {
   "cell_type": "code",
   "execution_count": null,
   "id": "1d799b19",
   "metadata": {},
   "outputs": [],
   "source": []
  }
 ],
 "metadata": {
  "kernelspec": {
   "display_name": "Python 3 (ipykernel)",
   "language": "python",
   "name": "python3"
  },
  "language_info": {
   "codemirror_mode": {
    "name": "ipython",
    "version": 3
   },
   "file_extension": ".py",
   "mimetype": "text/x-python",
   "name": "python",
   "nbconvert_exporter": "python",
   "pygments_lexer": "ipython3",
   "version": "3.10.5"
  }
 },
 "nbformat": 4,
 "nbformat_minor": 5
}
