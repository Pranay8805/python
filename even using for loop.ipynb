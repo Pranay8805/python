{
 "cells": [
  {
   "cell_type": "code",
   "execution_count": 1,
   "id": "d8b44bb6",
   "metadata": {},
   "outputs": [
    {
     "name": "stdout",
     "output_type": "stream",
     "text": [
      "[8, 6, 12, 8]\n"
     ]
    }
   ],
   "source": [
    "numbers=[8,6,12,9,8,13]\n",
    "even=[]\n",
    "for i in numbers:\n",
    "    if i%2==0:\n",
    "        even.append(i)\n",
    "print(even)"
   ]
  },
  {
   "cell_type": "code",
   "execution_count": 2,
   "id": "d50a7a37",
   "metadata": {},
   "outputs": [
    {
     "name": "stdout",
     "output_type": "stream",
     "text": [
      "[8, 6, 12, 8]\n"
     ]
    }
   ],
   "source": [
    "numbers=[8,6,12,9,8,13]\n",
    "even=[i for i in numbers if i%2==0]\n",
    "print(even)"
   ]
  },
  {
   "cell_type": "code",
   "execution_count": null,
   "id": "a3de5b1f",
   "metadata": {},
   "outputs": [],
   "source": []
  }
 ],
 "metadata": {
  "kernelspec": {
   "display_name": "Python 3 (ipykernel)",
   "language": "python",
   "name": "python3"
  },
  "language_info": {
   "codemirror_mode": {
    "name": "ipython",
    "version": 3
   },
   "file_extension": ".py",
   "mimetype": "text/x-python",
   "name": "python",
   "nbconvert_exporter": "python",
   "pygments_lexer": "ipython3",
   "version": "3.10.5"
  }
 },
 "nbformat": 4,
 "nbformat_minor": 5
}
